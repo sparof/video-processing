{
 "cells": [
  {
   "cell_type": "code",
   "execution_count": 8,
   "metadata": {},
   "outputs": [
    {
     "data": {
      "text/plain": [
       "(1024, 1280)"
      ]
     },
     "execution_count": 8,
     "metadata": {},
     "output_type": "execute_result"
    }
   ],
   "source": [
    "# Import the Images module from pillow\n",
    "from PIL import Image\n",
    "  \n",
    "# Open the image by specifying the image path.\n",
    "image_path = \"pic (1).jpg\"\n",
    "img = Image.open(image_path)\n",
    "img.size"
   ]
  },
  {
   "cell_type": "code",
   "execution_count": 1,
   "metadata": {},
   "outputs": [
    {
     "ename": "",
     "evalue": "",
     "output_type": "error",
     "traceback": [
      "\u001b[1;31mThe Kernel crashed while executing code in the the current cell or a previous cell. Please review the code in the cell(s) to identify a possible cause of the failure. Click <a href='https://aka.ms/vscodeJupyterKernelCrash'>here</a> for more info. View Jupyter <a href='command:jupyter.viewOutput'>log</a> for further details."
     ]
    }
   ],
   "source": [
    "import cv2\n",
    "\n",
    "# Load an HSV image\n",
    "hsv_image = cv2.imread('pic (2).jpg', cv2.IMREAD_COLOR)\n",
    "hsv_image = cv2.cvtColor(hsv_image, cv2.COLOR_BGR2HSV)\n",
    "\n",
    "# Split the HSV image into its three channels\n",
    "hue, saturation, value = cv2.split(hsv_image)\n",
    "\n",
    "# Display the three channels\n",
    "cv2.imshow('Hue Channel', hue)\n",
    "cv2.imshow('Saturation Channel', saturation)\n",
    "cv2.imshow('Value Channel', value)"
   ]
  },
  {
   "cell_type": "code",
   "execution_count": null,
   "metadata": {},
   "outputs": [],
   "source": []
  }
 ],
 "metadata": {
  "kernelspec": {
   "display_name": "Python 3.10.6 ('sparof')",
   "language": "python",
   "name": "python3"
  },
  "language_info": {
   "codemirror_mode": {
    "name": "ipython",
    "version": 3
   },
   "file_extension": ".py",
   "mimetype": "text/x-python",
   "name": "python",
   "nbconvert_exporter": "python",
   "pygments_lexer": "ipython3",
   "version": "3.10.9"
  },
  "orig_nbformat": 4,
  "vscode": {
   "interpreter": {
    "hash": "f4d3de94c98abd5dbc9e31c3a057ca397a32d1e9893a25076e0ec3243f47aac7"
   }
  }
 },
 "nbformat": 4,
 "nbformat_minor": 2
}
